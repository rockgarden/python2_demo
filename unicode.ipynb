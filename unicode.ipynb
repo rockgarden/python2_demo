{
 "cells": [
  {
   "cell_type": "code",
   "execution_count": 5,
   "metadata": {
    "collapsed": true
   },
   "outputs": [
    {
     "name": "stdout",
     "output_type": "stream",
     "text": [
      "截止时间(.*)(\\d+)年(\\d{1,2})月(\\d{1,2})日\n"
     ]
    }
   ],
   "source": [
    "pattern = u'截止时间(.*)(\\d+)年(\\d{1,2})月(\\d{1,2})日'.encode('utf-8')\n",
    "print(pattern)\n",
    "# print('截止时间'.encode('utf-8'))\n",
    "\n",
    "# pattern.decode('utf-8')\n",
    "# \n",
    "# print(pattern.decode('utf-8'))\n",
    "# print(type(pattern))\n",
    "# print(pattern.encode('utf-8'))"
   ]
  },
  {
   "cell_type": "code",
   "execution_count": 6,
   "metadata": {},
   "outputs": [
    {
     "name": "stdout",
     "output_type": "stream",
     "text": [
      "UTF-8\n"
     ]
    }
   ],
   "source": [
    "import sys\n",
    "print sys.stdout.encoding"
   ]
  },
  {
   "cell_type": "code",
   "execution_count": 10,
   "metadata": {},
   "outputs": [
    {
     "name": "stdout",
     "output_type": "stream",
     "text": [
      "����\n中文\n中文\n"
     ]
    }
   ],
   "source": [
    "print u'中文'.encode('gbk')\n",
    "print u'中文'.encode('utf-8')\n",
    "print u'中文'"
   ]
  },
  {
   "cell_type": "code",
   "execution_count": null,
   "metadata": {},
   "outputs": [],
   "source": []
  }
 ],
 "metadata": {
  "kernelspec": {
   "display_name": "Python 2",
   "language": "python",
   "name": "python2"
  },
  "language_info": {
   "codemirror_mode": {
    "name": "ipython",
    "version": 2
   },
   "file_extension": ".py",
   "mimetype": "text/x-python",
   "name": "python",
   "nbconvert_exporter": "python",
   "pygments_lexer": "ipython2",
   "version": "2.7.6"
  }
 },
 "nbformat": 4,
 "nbformat_minor": 0
}
