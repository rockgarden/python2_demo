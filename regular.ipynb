{
 "cells": [
  {
   "cell_type": "markdown",
   "metadata": {},
   "source": [
    "## python正则解析unicode\n",
    "* pattern前需要加u来escape unicode，而是源字符串也得是unicode。"
   ]
  },
  {
   "cell_type": "code",
   "execution_count": 15,
   "metadata": {
    "collapsed": false
   },
   "outputs": [],
   "source": [
    "import re\n",
    "\n",
    "import sys\n",
    "# reload(sys)\n",
    "# sys.setdefaultencoding('utf8')\n",
    "\n",
    "re.sub(ur'.*[\\u4E00-\\u9FA5]+.*', '', unicode('中文'))"
   ]
  },
  {
   "cell_type": "code",
   "execution_count": 16,
   "metadata": {},
   "outputs": [],
   "source": [
    ""
   ]
  },
  {
   "cell_type": "code",
   "execution_count": 1,
   "metadata": {},
   "outputs": [
    {
     "name": "stdout",
     "output_type": "stream",
     "text": [
      "心理箴言\n现实是污浊的河流\n要想接受污浊的河流而自身不被污染\n我们必须成为大海\n"
     ]
    }
   ],
   "source": [
    "import re\n",
    "\n",
    "str = u\"【心理箴言】现实是污浊的河流，要想接受污浊的河流而自身不被污染，我们必须成为大海。 =-=4845/.?'\"\n",
    "\n",
    "# pattern =re.compile(u'[\\u4e00-\\u9fa5]')\n",
    "pattern = re.compile(u\"[\\u4e00-\\u9fa5]+\")\n",
    "result = re.findall(pattern, str)\n",
    "# print result.group()\n",
    "for w in result:\n",
    "    print w\n"
   ]
  },
  {
   "cell_type": "code",
   "execution_count": 15,
   "metadata": {},
   "outputs": [
    {
     "name": "stdout",
     "output_type": "stream",
     "text": [
      "[u'\\u622a\\u6b62\\u65f6\\u95f4']\n截止时间\n"
     ]
    }
   ],
   "source": [
    "str = u\"3.4 \\u622a\\u6b62\\u65f6\\u95f4\\u4f9b\\u5e94\\u5546\\u5fc5\\u987b\\u5728\\u5e94\" \n",
    "pattern = re.compile(u\"\\u622a\\u6b62\\u65f6\\u95f4\")\n",
    "result = re.findall(pattern, str)\n",
    "print(result)\n",
    "for w in result:\n",
    "    print w"
   ]
  },
  {
   "cell_type": "code",
   "execution_count": 23,
   "metadata": {},
   "outputs": [
    {
     "name": "stdout",
     "output_type": "stream",
     "text": [
      "想做兼职学生的加我Q：158086023有惊喜哦\n"
     ]
    }
   ],
   "source": [
    "import re  \n",
    "temp = \"想做/ 兼_职/学生_/ 的 、加,我Q：  1 5.  8 0. ！！？？  8 6 。0.  2。 3     有,惊,喜,哦\"  \n",
    "temp = temp.decode(\"utf8\")\n",
    "string = re.sub(\"[\\s+\\.\\!\\/_,$%^*(+\\\"\\']+|[+——！，。？、~@#￥%……&*（）]+\".decode(\"utf8\"), \n",
    "                \"\".decode(\"utf8\"), temp)  \n",
    "print string"
   ]
  },
  {
   "cell_type": "code",
   "execution_count": 22,
   "metadata": {},
   "outputs": [
    {
     "name": "stdout",
     "output_type": "stream",
     "text": [
      "想做兼职学生的加我Q：158086023有惊喜哦\n"
     ]
    }
   ],
   "source": [
    "temp = u\"想做/ 兼_职/学生_/ 的 、加,我Q：  1 5.  8 0. ！！？？  8 6 。0.  2。 3     有,惊,喜,哦\"\n",
    "string = re.sub(u\"[\\s+\\.\\!\\/_,$%^*(+\\\"\\']+|[+——！，。？、~@#￥%……&*（）]+\", u\"\", temp)\n",
    "print string"
   ]
  },
  {
   "cell_type": "code",
   "execution_count": 29,
   "metadata": {},
   "outputs": [
    {
     "data": {
      "text/plain": [
       "'\\\\+'"
      ]
     },
     "execution_count": 29,
     "metadata": {},
     "output_type": "execute_result"
    }
   ],
   "source": [
    "import re\n",
    "text = \"\\p{P}+\"\n",
    "re.sub(r\"\\p{P}\", lambda m: \"-\" if m.group(0) == \"-\" else \"\", text)"
   ]
  },
  {
   "cell_type": "code",
   "execution_count": null,
   "metadata": {},
   "outputs": [],
   "source": []
  }
 ],
 "metadata": {
  "kernelspec": {
   "display_name": "Python 2",
   "language": "python",
   "name": "python2"
  },
  "language_info": {
   "codemirror_mode": {
    "name": "ipython",
    "version": 2
   },
   "file_extension": ".py",
   "mimetype": "text/x-python",
   "name": "python",
   "nbconvert_exporter": "python",
   "pygments_lexer": "ipython2",
   "version": "2.7.6"
  }
 },
 "nbformat": 4,
 "nbformat_minor": 0
}
